{
 "cells": [
  {
   "cell_type": "code",
   "execution_count": 4,
   "id": "133e2a0b",
   "metadata": {},
   "outputs": [],
   "source": [
    "import pandas as pd\n",
    "from selenium import webdriver\n",
    "from bs4 import BeautifulSoup\n",
    "from selenium.webdriver.common.by import By\n",
    "import time\n",
    "from tqdm.notebook import tqdm"
   ]
  },
  {
   "cell_type": "code",
   "execution_count": 5,
   "id": "c2154515",
   "metadata": {},
   "outputs": [
    {
     "name": "stderr",
     "output_type": "stream",
     "text": [
      "C:\\Users\\USER\\AppData\\Local\\Temp\\ipykernel_9868\\3548044659.py:2: DeprecationWarning: executable_path has been deprecated, please pass in a Service object\n",
      "  driver = webdriver.Chrome(path)\n"
     ]
    }
   ],
   "source": [
    "path = \"chromedriver.exe\"\n",
    "driver = webdriver.Chrome(path)\n",
    "driver.get('https://www.melon.com/chart/age/index.htm?chartType=AG&chartGenre=KPOP&chartDate=1980')\n",
    "time.sleep(2)"
   ]
  },
  {
   "cell_type": "code",
   "execution_count": 7,
   "id": "5701a367",
   "metadata": {},
   "outputs": [],
   "source": [
    "html = driver.page_source\n",
    "soup = BeautifulSoup(html, 'html.parser')\n",
    "\n",
    "songs = soup.select('.btn_icon.like')  # 노래 정보를 담고 있는 클래스 추출\n",
    "\n",
    "number = []\n",
    "for song in songs :  # 노래 정보를 담고있는 숫자들\n",
    "    no = song.attrs['data-song-no']\n",
    "    number.append(no)"
   ]
  },
  {
   "cell_type": "code",
   "execution_count": 12,
   "id": "c5a5b4ae",
   "metadata": {},
   "outputs": [
    {
     "ename": "IndexError",
     "evalue": "list index out of range",
     "output_type": "error",
     "traceback": [
      "\u001b[1;31m---------------------------------------------------------------------------\u001b[0m",
      "\u001b[1;31mIndexError\u001b[0m                                Traceback (most recent call last)",
      "Input \u001b[1;32mIn [12]\u001b[0m, in \u001b[0;36m<cell line: 6>\u001b[1;34m()\u001b[0m\n\u001b[0;32m     12\u001b[0m \u001b[38;5;28;01mexcept\u001b[39;00m :\n\u001b[0;32m     13\u001b[0m     lyric_none \u001b[38;5;241m=\u001b[39m \u001b[38;5;124m\"\u001b[39m\u001b[38;5;124m\"\u001b[39m\n\u001b[1;32m---> 14\u001b[0m titles\u001b[38;5;241m.\u001b[39mappend(\u001b[43mtitle\u001b[49m\u001b[43m[\u001b[49m\u001b[38;5;241;43m0\u001b[39;49m\u001b[43m]\u001b[49m\u001b[38;5;241m.\u001b[39mtext)\n\u001b[0;32m     15\u001b[0m singers\u001b[38;5;241m.\u001b[39mappend(singer[\u001b[38;5;241m0\u001b[39m]\u001b[38;5;241m.\u001b[39mtext)\n\u001b[0;32m     16\u001b[0m \u001b[38;5;28;01mtry\u001b[39;00m :\n",
      "\u001b[1;31mIndexError\u001b[0m: list index out of range"
     ]
    }
   ],
   "source": [
    "titles = []\n",
    "singers = []\n",
    "LYRIC = []\n",
    "lyric_none = ''\n",
    "\n",
    "for i in number :\n",
    "    driver.get(\"https://www.melon.com/song/detail.htm?songId=\" + i)  # 노래 검색 들어가서 제목, 가수, 가사 추출\n",
    "    title = driver.find_elements(By.CLASS_NAME, 'song_name')\n",
    "    singer = driver.find_elements(By.CLASS_NAME, 'artist_name')\n",
    "    try :                                                           # 가사가 등록되어 있지 않을 경우\n",
    "        lyric = driver.find_elements(By.CLASS_NAME, 'lyric')\n",
    "    except :\n",
    "        lyric_none = \"\"\n",
    "    titles.append(title[0].text)\n",
    "    singers.append(singer[0].text)\n",
    "    try :\n",
    "        LYRIC.append(lyric[0].text)\n",
    "    except :                                                       # 가사가 등록되어 있지 않을 경우 빈칸으로 생성\n",
    "        LYRIC.append(lyric_none)\n",
    "\n",
    "LYRIC2 = []\n",
    "for i in LYRIC : \n",
    "    LYRIC2.append(i.replace(\"\\n\",\" \"))\n",
    "LYRIC2\n"
   ]
  },
  {
   "cell_type": "code",
   "execution_count": null,
   "id": "b92ff773",
   "metadata": {},
   "outputs": [],
   "source": [
    "df = pd.DataFrame({\"제목\" : titles, \"가수\" : singers, \"가사\" : LYRIC2})\n",
    "df.to_csv(\"1980년대 TOP 100.csv\", encoding = 'cp949')"
   ]
  },
  {
   "cell_type": "code",
   "execution_count": null,
   "id": "d6745c2e",
   "metadata": {},
   "outputs": [],
   "source": []
  }
 ],
 "metadata": {
  "kernelspec": {
   "display_name": "Python 3 (ipykernel)",
   "language": "python",
   "name": "python3"
  },
  "language_info": {
   "codemirror_mode": {
    "name": "ipython",
    "version": 3
   },
   "file_extension": ".py",
   "mimetype": "text/x-python",
   "name": "python",
   "nbconvert_exporter": "python",
   "pygments_lexer": "ipython3",
   "version": "3.9.12"
  }
 },
 "nbformat": 4,
 "nbformat_minor": 5
}
